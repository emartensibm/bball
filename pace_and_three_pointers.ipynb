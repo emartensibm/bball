{
 "cells": [
  {
   "cell_type": "code",
   "execution_count": 12,
   "metadata": {},
   "outputs": [
    {
     "name": "stdout",
     "output_type": "stream",
     "text": [
      "Collecting sportsreference\n",
      "\u001b[?25l  Downloading https://files.pythonhosted.org/packages/4a/16/64f2181463018c00df5612cd3319a7cbf4403bd7b5c56ba8db1b9bf21a8d/sportsreference-0.4.7-py2.py3-none-any.whl (373kB)\n",
      "\u001b[K     |████████████████████████████████| 378kB 16.2MB/s eta 0:00:01\n",
      "\u001b[?25hRequirement already satisfied: requests>=2.18.4 in /opt/conda/envs/Python36/lib/python3.6/site-packages (from sportsreference) (2.21.0)\n",
      "Requirement already satisfied: pandas>=0.24.1 in /opt/conda/envs/Python36/lib/python3.6/site-packages (from sportsreference) (0.24.1)\n",
      "Collecting pyquery>=1.4.0 (from sportsreference)\n",
      "  Downloading https://files.pythonhosted.org/packages/78/43/95d42e386c61cb639d1a0b94f0c0b9f0b7d6b981ad3c043a836c8b5bc68b/pyquery-1.4.1-py2.py3-none-any.whl\n",
      "Requirement already satisfied: idna<2.9,>=2.5 in /opt/conda/envs/Python36/lib/python3.6/site-packages (from requests>=2.18.4->sportsreference) (2.8)\n",
      "Requirement already satisfied: urllib3<1.25,>=1.21.1 in /opt/conda/envs/Python36/lib/python3.6/site-packages (from requests>=2.18.4->sportsreference) (1.24.1)\n",
      "Requirement already satisfied: chardet<3.1.0,>=3.0.2 in /opt/conda/envs/Python36/lib/python3.6/site-packages (from requests>=2.18.4->sportsreference) (3.0.4)\n",
      "Requirement already satisfied: certifi>=2017.4.17 in /opt/conda/envs/Python36/lib/python3.6/site-packages (from requests>=2.18.4->sportsreference) (2019.11.28)\n",
      "Requirement already satisfied: numpy>=1.12.0 in /opt/conda/envs/Python36/lib/python3.6/site-packages (from pandas>=0.24.1->sportsreference) (1.15.4)\n",
      "Requirement already satisfied: pytz>=2011k in /opt/conda/envs/Python36/lib/python3.6/site-packages (from pandas>=0.24.1->sportsreference) (2018.9)\n",
      "Requirement already satisfied: python-dateutil>=2.5.0 in /opt/conda/envs/Python36/lib/python3.6/site-packages (from pandas>=0.24.1->sportsreference) (2.7.5)\n",
      "Collecting cssselect>0.7.9 (from pyquery>=1.4.0->sportsreference)\n",
      "  Downloading https://files.pythonhosted.org/packages/3b/d4/3b5c17f00cce85b9a1e6f91096e1cc8e8ede2e1be8e96b87ce1ed09e92c5/cssselect-1.1.0-py2.py3-none-any.whl\n",
      "Requirement already satisfied: lxml>=2.1 in /opt/conda/envs/Python36/lib/python3.6/site-packages (from pyquery>=1.4.0->sportsreference) (4.3.1)\n",
      "Requirement already satisfied: six>=1.5 in /opt/conda/envs/Python36/lib/python3.6/site-packages (from python-dateutil>=2.5.0->pandas>=0.24.1->sportsreference) (1.12.0)\n",
      "Installing collected packages: cssselect, pyquery, sportsreference\n",
      "Successfully installed cssselect-1.1.0 pyquery-1.4.1 sportsreference-0.4.7\n"
     ]
    }
   ],
   "source": [
    "!pip install sportsreference"
   ]
  },
  {
   "cell_type": "code",
   "execution_count": null,
   "metadata": {},
   "outputs": [],
   "source": [
    "years = ['2011', '2012', '2013', '2014', '2015', '2016', '2017', '2018', '2019', '2020']"
   ]
  },
  {
   "cell_type": "code",
   "execution_count": 30,
   "metadata": {},
   "outputs": [
    {
     "name": "stdout",
     "output_type": "stream",
     "text": [
      "[['2011', 66.8979710144927, 0.32944927536231877], ['2012', 66.31482558139534, 0.3294563953488371], ['2013', 66.11066282420751, 0.3298645533141208], ['2014', 66.80968660968662, 0.3295014245014246], ['2015', 65.17492877492876, 0.34210541310541315], ['2016', 69.27834757834759, 0.35366096866096863], ['2017', 69.69715099715098, 0.3642022792022793], ['2018', 69.6649572649573, 0.3744245014245015], ['2019', 69.43371104815861, 0.3870849858356943], ['2020', 69.43031161473083, 0.37507082152974497]]\n"
     ]
    }
   ],
   "source": [
    "from sportsreference.ncaab.teams import Teams\n",
    "\n",
    "ncaa_data = []\n",
    "\n",
    "for year in years:\n",
    "    num_teams = 0\n",
    "    pace = 0\n",
    "    tpa = 0\n",
    "    for team in Teams(year):\n",
    "        if team.pace is not None and team.three_point_attempt_rate is not None:\n",
    "            num_teams += 1\n",
    "            pace += team.pace\n",
    "            tpa += team.three_point_attempt_rate\n",
    "        else:\n",
    "            print(year)\n",
    "    ncaa_data.append([year, pace/num_teams,tpa/num_teams])\n",
    "print(ncaa_data)"
   ]
  },
  {
   "cell_type": "code",
   "execution_count": 31,
   "metadata": {},
   "outputs": [],
   "source": [
    "import pandas as pd\n",
    "import matplotlib.pyplot as plt"
   ]
  },
  {
   "cell_type": "code",
   "execution_count": 32,
   "metadata": {},
   "outputs": [
    {
     "data": {
      "text/html": [
       "<div>\n",
       "<style scoped>\n",
       "    .dataframe tbody tr th:only-of-type {\n",
       "        vertical-align: middle;\n",
       "    }\n",
       "\n",
       "    .dataframe tbody tr th {\n",
       "        vertical-align: top;\n",
       "    }\n",
       "\n",
       "    .dataframe thead th {\n",
       "        text-align: right;\n",
       "    }\n",
       "</style>\n",
       "<table border=\"1\" class=\"dataframe\">\n",
       "  <thead>\n",
       "    <tr style=\"text-align: right;\">\n",
       "      <th></th>\n",
       "      <th>Year</th>\n",
       "      <th>Avg_Pace</th>\n",
       "      <th>Avg_3pt_Rate</th>\n",
       "    </tr>\n",
       "  </thead>\n",
       "  <tbody>\n",
       "    <tr>\n",
       "      <th>0</th>\n",
       "      <td>2011</td>\n",
       "      <td>66.897971</td>\n",
       "      <td>0.329449</td>\n",
       "    </tr>\n",
       "    <tr>\n",
       "      <th>1</th>\n",
       "      <td>2012</td>\n",
       "      <td>66.314826</td>\n",
       "      <td>0.329456</td>\n",
       "    </tr>\n",
       "    <tr>\n",
       "      <th>2</th>\n",
       "      <td>2013</td>\n",
       "      <td>66.110663</td>\n",
       "      <td>0.329865</td>\n",
       "    </tr>\n",
       "    <tr>\n",
       "      <th>3</th>\n",
       "      <td>2014</td>\n",
       "      <td>66.809687</td>\n",
       "      <td>0.329501</td>\n",
       "    </tr>\n",
       "    <tr>\n",
       "      <th>4</th>\n",
       "      <td>2015</td>\n",
       "      <td>65.174929</td>\n",
       "      <td>0.342105</td>\n",
       "    </tr>\n",
       "  </tbody>\n",
       "</table>\n",
       "</div>"
      ],
      "text/plain": [
       "   Year   Avg_Pace  Avg_3pt_Rate\n",
       "0  2011  66.897971      0.329449\n",
       "1  2012  66.314826      0.329456\n",
       "2  2013  66.110663      0.329865\n",
       "3  2014  66.809687      0.329501\n",
       "4  2015  65.174929      0.342105"
      ]
     },
     "execution_count": 32,
     "metadata": {},
     "output_type": "execute_result"
    }
   ],
   "source": [
    "ncaa_df = pd.DataFrame(ncaa_data, columns = ['Year', 'Avg_Pace', 'Avg_3pt_Rate'])\n",
    "ncaa_df.head()"
   ]
  },
  {
   "cell_type": "code",
   "execution_count": 33,
   "metadata": {},
   "outputs": [
    {
     "data": {
      "image/png": "[encoded data removed]",
      "text/plain": [
       "<Figure size 432x288 with 1 Axes>"
      ]
     },
     "metadata": {
      "needs_background": "light"
     },
     "output_type": "display_data"
    }
   ],
   "source": [
    "ncaa_df.plot(kind='line',x='Year',y='Avg_Pace')\n",
    "\n",
    "plt.show()"
   ]
  },
  {
   "cell_type": "code",
   "execution_count": 34,
   "metadata": {},
   "outputs": [
    {
     "data": {
      "image/png": "[encoded data removed]",
      "text/plain": [
       "<Figure size 432x288 with 1 Axes>"
      ]
     },
     "metadata": {
      "needs_background": "light"
     },
     "output_type": "display_data"
    }
   ],
   "source": [
    "ncaa_df.plot(kind='line',x='Year',y='Avg_3pt_Rate')\n",
    "\n",
    "plt.show()"
   ]
  },
  {
   "cell_type": "code",
   "execution_count": 36,
   "metadata": {},
   "outputs": [
    {
     "name": "stdout",
     "output_type": "stream",
     "text": [
      "[['2011', 0.3946758045347788, 0.221790418587631], ['2012', 0.396807923262034, 0.22573470974607798], ['2013', 0.3993097082386233, 0.24358565960111608], ['2014', 0.40358712820679365, 0.25956335220074006], ['2015', 0.40470366874234787, 0.26795869994046745], ['2016', 0.4092436821155656, 0.28450009576328816], ['2017', 0.41123310879159125, 0.3162563585827607], ['2018', 0.41558917449174515, 0.3370905560815958], ['2019', 0.42745969064203676, 0.3588492913857115], ['2020', 0.42804789005916366, 0.38040433374405314]]\n"
     ]
    }
   ],
   "source": [
    "from sportsreference.nba.teams import Teams\n",
    "\n",
    "nba_data = []\n",
    "\n",
    "for year in years:\n",
    "    num_teams = 0\n",
    "    pace = 0\n",
    "    tpa = 0\n",
    "    for team in Teams(year):\n",
    "        team_pace = (team.turnovers + team.field_goal_attempts) / team.minutes_played\n",
    "        num_teams += 1\n",
    "        pace += team_pace\n",
    "        tpa += (team.three_point_field_goal_attempts / team.field_goal_attempts)\n",
    "    nba_data.append([year, pace/num_teams,tpa/num_teams])\n",
    "print(nba_data)"
   ]
  },
  {
   "cell_type": "code",
   "execution_count": 37,
   "metadata": {},
   "outputs": [
    {
     "data": {
      "text/html": [
       "<div>\n",
       "<style scoped>\n",
       "    .dataframe tbody tr th:only-of-type {\n",
       "        vertical-align: middle;\n",
       "    }\n",
       "\n",
       "    .dataframe tbody tr th {\n",
       "        vertical-align: top;\n",
       "    }\n",
       "\n",
       "    .dataframe thead th {\n",
       "        text-align: right;\n",
       "    }\n",
       "</style>\n",
       "<table border=\"1\" class=\"dataframe\">\n",
       "  <thead>\n",
       "    <tr style=\"text-align: right;\">\n",
       "      <th></th>\n",
       "      <th>Year</th>\n",
       "      <th>Avg_Pace</th>\n",
       "      <th>Avg_3pt_Rate</th>\n",
       "    </tr>\n",
       "  </thead>\n",
       "  <tbody>\n",
       "    <tr>\n",
       "      <th>0</th>\n",
       "      <td>2011</td>\n",
       "      <td>0.394676</td>\n",
       "      <td>0.221790</td>\n",
       "    </tr>\n",
       "    <tr>\n",
       "      <th>1</th>\n",
       "      <td>2012</td>\n",
       "      <td>0.396808</td>\n",
       "      <td>0.225735</td>\n",
       "    </tr>\n",
       "    <tr>\n",
       "      <th>2</th>\n",
       "      <td>2013</td>\n",
       "      <td>0.399310</td>\n",
       "      <td>0.243586</td>\n",
       "    </tr>\n",
       "    <tr>\n",
       "      <th>3</th>\n",
       "      <td>2014</td>\n",
       "      <td>0.403587</td>\n",
       "      <td>0.259563</td>\n",
       "    </tr>\n",
       "    <tr>\n",
       "      <th>4</th>\n",
       "      <td>2015</td>\n",
       "      <td>0.404704</td>\n",
       "      <td>0.267959</td>\n",
       "    </tr>\n",
       "  </tbody>\n",
       "</table>\n",
       "</div>"
      ],
      "text/plain": [
       "   Year  Avg_Pace  Avg_3pt_Rate\n",
       "0  2011  0.394676      0.221790\n",
       "1  2012  0.396808      0.225735\n",
       "2  2013  0.399310      0.243586\n",
       "3  2014  0.403587      0.259563\n",
       "4  2015  0.404704      0.267959"
      ]
     },
     "execution_count": 37,
     "metadata": {},
     "output_type": "execute_result"
    }
   ],
   "source": [
    "nba_df = pd.DataFrame(nba_data, columns = ['Year', 'Avg_Pace', 'Avg_3pt_Rate'])\n",
    "nba_df.head()"
   ]
  },
  {
   "cell_type": "code",
   "execution_count": 38,
   "metadata": {},
   "outputs": [
    {
     "data": {
      "image/png": "[encoded data removed]",
      "text/plain": [
       "<Figure size 432x288 with 1 Axes>"
      ]
     },
     "metadata": {
      "needs_background": "light"
     },
     "output_type": "display_data"
    }
   ],
   "source": [
    "nba_df.plot(kind='line',x='Year',y='Avg_Pace')\n",
    "\n",
    "plt.show()"
   ]
  },
  {
   "cell_type": "code",
   "execution_count": 40,
   "metadata": {},
   "outputs": [
    {
     "data": {
      "image/png": "[encoded data removed]",
      "text/plain": [
       "<Figure size 432x288 with 1 Axes>"
      ]
     },
     "metadata": {
      "needs_background": "light"
     },
     "output_type": "display_data"
    }
   ],
   "source": [
    "nba_df.plot(kind='line',x='Year',y='Avg_3pt_Rate')\n",
    "\n",
    "plt.show()"
   ]
  },
  {
   "cell_type": "code",
   "execution_count": null,
   "metadata": {},
   "outputs": [],
   "source": []
  }
 ],
 "metadata": {
  "kernelspec": {
   "display_name": "Python 3.6",
   "language": "python",
   "name": "python3"
  },
  "language_info": {
   "codemirror_mode": {
    "name": "ipython",
    "version": 3
   },
   "file_extension": ".py",
   "mimetype": "text/x-python",
   "name": "python",
   "nbconvert_exporter": "python",
   "pygments_lexer": "ipython3",
   "version": "3.6.9"
  }
 },
 "nbformat": 4,
 "nbformat_minor": 1
}
